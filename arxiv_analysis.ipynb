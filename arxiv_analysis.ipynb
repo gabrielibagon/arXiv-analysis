{
 "cells": [
  {
   "cell_type": "code",
   "execution_count": 32,
   "metadata": {
    "collapsed": true
   },
   "outputs": [],
   "source": [
    "import os\n",
    "import sys\n",
    "import re\n"
   ]
  },
  {
   "cell_type": "code",
   "execution_count": 85,
   "metadata": {
    "collapsed": false
   },
   "outputs": [],
   "source": [
    "abstract_dir = \"data/hep-th-abs\"\n",
    "citation_doc = \"data/hep-th-citations\"\n",
    "\n",
    "abstract_dict = {}\n",
    "def organize_abstract(text):\n",
    "    lines = text.split('\\n')\n",
    "    for l in lines:\n",
    "        if l.startswith(\"Paper: \"):\n",
    "            id=l.split(\"/\")[1]\n",
    "            abstract_dict[id] = {}\n",
    "        if l.startswith(\"Date: \"):\n",
    "            dateline = re.split(\"[:()]\", l)\n",
    "            abstract_dict[id]['date'] = dateline[1][:-3]\n",
    "        if l.startswith('Title: '):\n",
    "            titleline = l.split(\"Title: \")[1]\n",
    "            abstract_dict[id]['title'] = titleline\n",
    "        if l.startswith('Authors: '):\n",
    "            authorline = l.split(\"Authors: \")[1]\n",
    "            authors = authorline.replace(',',' and').split(' and ')\n",
    "            abstract_dict[id]['authors'] = authors\n",
    "        if l.startswith('Comments: '):\n",
    "            commentline = l.split(\"Comments: \")[1]\n",
    "            abstract_dict[id]['comments'] = commentline\n",
    "        if l.startswith(\"Journal-ref: \"):\n",
    "            abstract_dict[id]['journal'] = l.split(' ')[1]\n",
    "            \n",
    "    text.split('\\\\')[-1]\n",
    "    abstract_dict[id]['abstract'] = text.split('\\\\')[-3].replace('\\n','')\n",
    "\n",
    "def import_abstracts():\n",
    "    for (dirpath, dirnames, filenames) in os.walk(abstract_dir):\n",
    "        for d in dirnames:\n",
    "            d = abstract_dir + \"/\" + d\n",
    "            for (dirpath, dirnames, filenames) in os.walk(d):  \n",
    "                for f in filenames:\n",
    "                    f = d + '/' + f\n",
    "                    with open(f, 'r') as myfile:\n",
    "                        text=myfile.read()\n",
    "                        organize_abstract(text)\n",
    "def import_citations():\n",
    "    citations = [tuple(line.rstrip('\\n').split(' ')) for line in open(citation_doc)]\n",
    "\n",
    "import_abstracts()\n",
    "import_citations()\n"
   ]
  },
  {
   "cell_type": "code",
   "execution_count": null,
   "metadata": {
    "collapsed": false
   },
   "outputs": [],
   "source": [
    "\n",
    "\n"
   ]
  },
  {
   "cell_type": "code",
   "execution_count": null,
   "metadata": {
    "collapsed": false
   },
   "outputs": [],
   "source": []
  },
  {
   "cell_type": "code",
   "execution_count": null,
   "metadata": {
    "collapsed": false
   },
   "outputs": [],
   "source": []
  },
  {
   "cell_type": "code",
   "execution_count": null,
   "metadata": {
    "collapsed": true
   },
   "outputs": [],
   "source": []
  }
 ],
 "metadata": {
  "kernelspec": {
   "display_name": "Python 3",
   "language": "python",
   "name": "python3"
  },
  "language_info": {
   "codemirror_mode": {
    "name": "ipython",
    "version": 3
   },
   "file_extension": ".py",
   "mimetype": "text/x-python",
   "name": "python",
   "nbconvert_exporter": "python",
   "pygments_lexer": "ipython3",
   "version": "3.5.2"
  }
 },
 "nbformat": 4,
 "nbformat_minor": 2
}
